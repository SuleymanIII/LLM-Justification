{
 "cells": [
  {
   "cell_type": "code",
   "execution_count": 102,
   "metadata": {},
   "outputs": [
    {
     "name": "stderr",
     "output_type": "stream",
     "text": [
      "[nltk_data] Downloading package omw-1.4 to\n",
      "[nltk_data]     C:\\Users\\ariesenihw\\AppData\\Roaming\\nltk_data...\n",
      "[nltk_data]   Package omw-1.4 is already up-to-date!\n",
      "[nltk_data] Downloading package punkt to\n",
      "[nltk_data]     C:\\Users\\ariesenihw\\AppData\\Roaming\\nltk_data...\n",
      "[nltk_data]   Unzipping tokenizers\\punkt.zip.\n",
      "[nltk_data] Downloading package stopwords to\n",
      "[nltk_data]     C:\\Users\\ariesenihw\\AppData\\Roaming\\nltk_data...\n",
      "[nltk_data]   Package stopwords is already up-to-date!\n",
      "[nltk_data] Downloading package wordnet to\n",
      "[nltk_data]     C:\\Users\\ariesenihw\\AppData\\Roaming\\nltk_data...\n",
      "[nltk_data]   Package wordnet is already up-to-date!\n"
     ]
    }
   ],
   "source": [
    "import numpy as np\n",
    "import pandas as pd\n",
    "from statsmodels.nonparametric.smoothers_lowess import lowess\n",
    "import matplotlib.pyplot as plt\n",
    "import seaborn as sns\n",
    "import statsmodels.formula.api as sm\n",
    "\n",
    "import nltk\n",
    "nltk.download('omw-1.4')\n",
    "nltk.download('punkt')  # Download the Punkt tokenizer if you haven't already\n",
    "\n",
    "from nltk.tokenize import sent_tokenize\n",
    "\n",
    "from sklearn import linear_model as lm\n",
    "from sklearn.model_selection import train_test_split\n",
    "from sklearn.model_selection import KFold\n",
    "from sklearn.linear_model import LogisticRegression\n",
    "from sklearn.metrics import f1_score, classification_report, accuracy_score\n",
    "from sklearn.feature_extraction.text import CountVectorizer\n",
    "\n",
    "import re\n",
    "from string import punctuation\n",
    "from nltk.stem import WordNetLemmatizer\n",
    "from nltk.corpus import stopwords\n",
    "import nltk\n",
    "nltk.download('stopwords')\n",
    "nltk.download('wordnet')\n",
    "import gensim\n",
    "import string\n",
    "from gensim.models import Doc2Vec  \n",
    "import html\n",
    "from bs4 import BeautifulSoup\n",
    "from collections import Counter\n",
    "\n",
    "\n",
    "# Plot settings\n",
    "plt.rcParams['figure.figsize'] = (12, 9)\n",
    "plt.rcParams['font.size'] = 12"
   ]
  },
  {
   "cell_type": "markdown",
   "metadata": {},
   "source": [
    "Alright let's review the scraped data."
   ]
  },
  {
   "cell_type": "code",
   "execution_count": 81,
   "metadata": {},
   "outputs": [
    {
     "data": {
      "text/html": [
       "<div>\n",
       "<style scoped>\n",
       "    .dataframe tbody tr th:only-of-type {\n",
       "        vertical-align: middle;\n",
       "    }\n",
       "\n",
       "    .dataframe tbody tr th {\n",
       "        vertical-align: top;\n",
       "    }\n",
       "\n",
       "    .dataframe thead th {\n",
       "        text-align: right;\n",
       "    }\n",
       "</style>\n",
       "<table border=\"1\" class=\"dataframe\">\n",
       "  <thead>\n",
       "    <tr style=\"text-align: right;\">\n",
       "      <th></th>\n",
       "      <th>PubMedID</th>\n",
       "      <th>Title</th>\n",
       "      <th>URL</th>\n",
       "      <th>Abstract</th>\n",
       "    </tr>\n",
       "  </thead>\n",
       "  <tbody>\n",
       "    <tr>\n",
       "      <th>0</th>\n",
       "      <td>37899090</td>\n",
       "      <td>Therapy with direct oral anticoagulants for se...</td>\n",
       "      <td>https://pubmed.ncbi.nlm.nih.gov/37899090</td>\n",
       "      <td>Antiphospholipid syndrome (APS) is a systemic ...</td>\n",
       "    </tr>\n",
       "    <tr>\n",
       "      <th>1</th>\n",
       "      <td>37878348</td>\n",
       "      <td>Treatment Outcomes With Licensed and Unlicense...</td>\n",
       "      <td>https://pubmed.ncbi.nlm.nih.gov/37878348</td>\n",
       "      <td>Stimulants (methylphenidate and amphetamines) ...</td>\n",
       "    </tr>\n",
       "    <tr>\n",
       "      <th>2</th>\n",
       "      <td>37866803</td>\n",
       "      <td>AdipoRon and ADP355, adiponectin receptor agon...</td>\n",
       "      <td>https://pubmed.ncbi.nlm.nih.gov/37866803</td>\n",
       "      <td>Adiponectin replacement therapy holds the pote...</td>\n",
       "    </tr>\n",
       "    <tr>\n",
       "      <th>3</th>\n",
       "      <td>37864589</td>\n",
       "      <td>Exploring the logic and conducting a comprehen...</td>\n",
       "      <td>https://pubmed.ncbi.nlm.nih.gov/37864589</td>\n",
       "      <td>The potential benefits of adiponectin replacem...</td>\n",
       "    </tr>\n",
       "    <tr>\n",
       "      <th>4</th>\n",
       "      <td>37846549</td>\n",
       "      <td>Evaluation of pentamidine tolerability and eff...</td>\n",
       "      <td>https://pubmed.ncbi.nlm.nih.gov/37846549</td>\n",
       "      <td>Intravenous pentamidine is used for prophylaxi...</td>\n",
       "    </tr>\n",
       "    <tr>\n",
       "      <th>...</th>\n",
       "      <td>...</td>\n",
       "      <td>...</td>\n",
       "      <td>...</td>\n",
       "      <td>...</td>\n",
       "    </tr>\n",
       "    <tr>\n",
       "      <th>5832</th>\n",
       "      <td>1964663</td>\n",
       "      <td>Therapeutic application of subcutaneous low-mo...</td>\n",
       "      <td>https://pubmed.ncbi.nlm.nih.gov/1964663</td>\n",
       "      <td>Fifty patients presenting with acute deep-vein...</td>\n",
       "    </tr>\n",
       "    <tr>\n",
       "      <th>5833</th>\n",
       "      <td>2563187</td>\n",
       "      <td>Relative efficacy of, and some adverse reactio...</td>\n",
       "      <td>https://pubmed.ncbi.nlm.nih.gov/2563187</td>\n",
       "      <td>Although it is a common belief that all antihy...</td>\n",
       "    </tr>\n",
       "    <tr>\n",
       "      <th>5834</th>\n",
       "      <td>3124679</td>\n",
       "      <td>Advanced ovarian cancer: long-term results of ...</td>\n",
       "      <td>https://pubmed.ncbi.nlm.nih.gov/3124679</td>\n",
       "      <td>To determine the efficacy of a 6-month course ...</td>\n",
       "    </tr>\n",
       "    <tr>\n",
       "      <th>5835</th>\n",
       "      <td>3431880</td>\n",
       "      <td>The analgesic effect of amitriptyline on chron...</td>\n",
       "      <td>https://pubmed.ncbi.nlm.nih.gov/3431880</td>\n",
       "      <td>The efficacy of amitriptyline was evaluated in...</td>\n",
       "    </tr>\n",
       "    <tr>\n",
       "      <th>5836</th>\n",
       "      <td>2444780</td>\n",
       "      <td>Comparison of nitroglycerin patches and nifedi...</td>\n",
       "      <td>https://pubmed.ncbi.nlm.nih.gov/2444780</td>\n",
       "      <td>Fifteen patients with stable angina participat...</td>\n",
       "    </tr>\n",
       "  </tbody>\n",
       "</table>\n",
       "<p>5837 rows × 4 columns</p>\n",
       "</div>"
      ],
      "text/plain": [
       "      PubMedID                                              Title  \\\n",
       "0     37899090  Therapy with direct oral anticoagulants for se...   \n",
       "1     37878348  Treatment Outcomes With Licensed and Unlicense...   \n",
       "2     37866803  AdipoRon and ADP355, adiponectin receptor agon...   \n",
       "3     37864589  Exploring the logic and conducting a comprehen...   \n",
       "4     37846549  Evaluation of pentamidine tolerability and eff...   \n",
       "...        ...                                                ...   \n",
       "5832   1964663  Therapeutic application of subcutaneous low-mo...   \n",
       "5833   2563187  Relative efficacy of, and some adverse reactio...   \n",
       "5834   3124679  Advanced ovarian cancer: long-term results of ...   \n",
       "5835   3431880  The analgesic effect of amitriptyline on chron...   \n",
       "5836   2444780  Comparison of nitroglycerin patches and nifedi...   \n",
       "\n",
       "                                           URL  \\\n",
       "0     https://pubmed.ncbi.nlm.nih.gov/37899090   \n",
       "1     https://pubmed.ncbi.nlm.nih.gov/37878348   \n",
       "2     https://pubmed.ncbi.nlm.nih.gov/37866803   \n",
       "3     https://pubmed.ncbi.nlm.nih.gov/37864589   \n",
       "4     https://pubmed.ncbi.nlm.nih.gov/37846549   \n",
       "...                                        ...   \n",
       "5832   https://pubmed.ncbi.nlm.nih.gov/1964663   \n",
       "5833   https://pubmed.ncbi.nlm.nih.gov/2563187   \n",
       "5834   https://pubmed.ncbi.nlm.nih.gov/3124679   \n",
       "5835   https://pubmed.ncbi.nlm.nih.gov/3431880   \n",
       "5836   https://pubmed.ncbi.nlm.nih.gov/2444780   \n",
       "\n",
       "                                               Abstract  \n",
       "0     Antiphospholipid syndrome (APS) is a systemic ...  \n",
       "1     Stimulants (methylphenidate and amphetamines) ...  \n",
       "2     Adiponectin replacement therapy holds the pote...  \n",
       "3     The potential benefits of adiponectin replacem...  \n",
       "4     Intravenous pentamidine is used for prophylaxi...  \n",
       "...                                                 ...  \n",
       "5832  Fifty patients presenting with acute deep-vein...  \n",
       "5833  Although it is a common belief that all antihy...  \n",
       "5834  To determine the efficacy of a 6-month course ...  \n",
       "5835  The efficacy of amitriptyline was evaluated in...  \n",
       "5836  Fifteen patients with stable angina participat...  \n",
       "\n",
       "[5837 rows x 4 columns]"
      ]
     },
     "execution_count": 81,
     "metadata": {},
     "output_type": "execute_result"
    }
   ],
   "source": [
    "data = pd.read_csv(\"pubmed_data_full.csv\")\n",
    "data"
   ]
  },
  {
   "cell_type": "markdown",
   "metadata": {},
   "source": [
    "Let's check if we have null values."
   ]
  },
  {
   "cell_type": "code",
   "execution_count": 82,
   "metadata": {},
   "outputs": [
    {
     "data": {
      "text/plain": [
       "PubMedID      0\n",
       "Title         0\n",
       "URL           0\n",
       "Abstract    256\n",
       "dtype: int64"
      ]
     },
     "execution_count": 82,
     "metadata": {},
     "output_type": "execute_result"
    }
   ],
   "source": [
    "data.isnull().sum()"
   ]
  },
  {
   "cell_type": "markdown",
   "metadata": {},
   "source": [
    "Alright we see 256 entries have NaN for the abstract so let's drop these."
   ]
  },
  {
   "cell_type": "code",
   "execution_count": 83,
   "metadata": {},
   "outputs": [
    {
     "data": {
      "text/html": [
       "<div>\n",
       "<style scoped>\n",
       "    .dataframe tbody tr th:only-of-type {\n",
       "        vertical-align: middle;\n",
       "    }\n",
       "\n",
       "    .dataframe tbody tr th {\n",
       "        vertical-align: top;\n",
       "    }\n",
       "\n",
       "    .dataframe thead th {\n",
       "        text-align: right;\n",
       "    }\n",
       "</style>\n",
       "<table border=\"1\" class=\"dataframe\">\n",
       "  <thead>\n",
       "    <tr style=\"text-align: right;\">\n",
       "      <th></th>\n",
       "      <th>PubMedID</th>\n",
       "      <th>Title</th>\n",
       "      <th>URL</th>\n",
       "      <th>Abstract</th>\n",
       "    </tr>\n",
       "  </thead>\n",
       "  <tbody>\n",
       "    <tr>\n",
       "      <th>0</th>\n",
       "      <td>37899090</td>\n",
       "      <td>Therapy with direct oral anticoagulants for se...</td>\n",
       "      <td>https://pubmed.ncbi.nlm.nih.gov/37899090</td>\n",
       "      <td>Antiphospholipid syndrome (APS) is a systemic ...</td>\n",
       "    </tr>\n",
       "    <tr>\n",
       "      <th>1</th>\n",
       "      <td>37878348</td>\n",
       "      <td>Treatment Outcomes With Licensed and Unlicense...</td>\n",
       "      <td>https://pubmed.ncbi.nlm.nih.gov/37878348</td>\n",
       "      <td>Stimulants (methylphenidate and amphetamines) ...</td>\n",
       "    </tr>\n",
       "    <tr>\n",
       "      <th>2</th>\n",
       "      <td>37866803</td>\n",
       "      <td>AdipoRon and ADP355, adiponectin receptor agon...</td>\n",
       "      <td>https://pubmed.ncbi.nlm.nih.gov/37866803</td>\n",
       "      <td>Adiponectin replacement therapy holds the pote...</td>\n",
       "    </tr>\n",
       "    <tr>\n",
       "      <th>3</th>\n",
       "      <td>37864589</td>\n",
       "      <td>Exploring the logic and conducting a comprehen...</td>\n",
       "      <td>https://pubmed.ncbi.nlm.nih.gov/37864589</td>\n",
       "      <td>The potential benefits of adiponectin replacem...</td>\n",
       "    </tr>\n",
       "    <tr>\n",
       "      <th>4</th>\n",
       "      <td>37846549</td>\n",
       "      <td>Evaluation of pentamidine tolerability and eff...</td>\n",
       "      <td>https://pubmed.ncbi.nlm.nih.gov/37846549</td>\n",
       "      <td>Intravenous pentamidine is used for prophylaxi...</td>\n",
       "    </tr>\n",
       "    <tr>\n",
       "      <th>...</th>\n",
       "      <td>...</td>\n",
       "      <td>...</td>\n",
       "      <td>...</td>\n",
       "      <td>...</td>\n",
       "    </tr>\n",
       "    <tr>\n",
       "      <th>5832</th>\n",
       "      <td>1964663</td>\n",
       "      <td>Therapeutic application of subcutaneous low-mo...</td>\n",
       "      <td>https://pubmed.ncbi.nlm.nih.gov/1964663</td>\n",
       "      <td>Fifty patients presenting with acute deep-vein...</td>\n",
       "    </tr>\n",
       "    <tr>\n",
       "      <th>5833</th>\n",
       "      <td>2563187</td>\n",
       "      <td>Relative efficacy of, and some adverse reactio...</td>\n",
       "      <td>https://pubmed.ncbi.nlm.nih.gov/2563187</td>\n",
       "      <td>Although it is a common belief that all antihy...</td>\n",
       "    </tr>\n",
       "    <tr>\n",
       "      <th>5834</th>\n",
       "      <td>3124679</td>\n",
       "      <td>Advanced ovarian cancer: long-term results of ...</td>\n",
       "      <td>https://pubmed.ncbi.nlm.nih.gov/3124679</td>\n",
       "      <td>To determine the efficacy of a 6-month course ...</td>\n",
       "    </tr>\n",
       "    <tr>\n",
       "      <th>5835</th>\n",
       "      <td>3431880</td>\n",
       "      <td>The analgesic effect of amitriptyline on chron...</td>\n",
       "      <td>https://pubmed.ncbi.nlm.nih.gov/3431880</td>\n",
       "      <td>The efficacy of amitriptyline was evaluated in...</td>\n",
       "    </tr>\n",
       "    <tr>\n",
       "      <th>5836</th>\n",
       "      <td>2444780</td>\n",
       "      <td>Comparison of nitroglycerin patches and nifedi...</td>\n",
       "      <td>https://pubmed.ncbi.nlm.nih.gov/2444780</td>\n",
       "      <td>Fifteen patients with stable angina participat...</td>\n",
       "    </tr>\n",
       "  </tbody>\n",
       "</table>\n",
       "<p>5581 rows × 4 columns</p>\n",
       "</div>"
      ],
      "text/plain": [
       "      PubMedID                                              Title  \\\n",
       "0     37899090  Therapy with direct oral anticoagulants for se...   \n",
       "1     37878348  Treatment Outcomes With Licensed and Unlicense...   \n",
       "2     37866803  AdipoRon and ADP355, adiponectin receptor agon...   \n",
       "3     37864589  Exploring the logic and conducting a comprehen...   \n",
       "4     37846549  Evaluation of pentamidine tolerability and eff...   \n",
       "...        ...                                                ...   \n",
       "5832   1964663  Therapeutic application of subcutaneous low-mo...   \n",
       "5833   2563187  Relative efficacy of, and some adverse reactio...   \n",
       "5834   3124679  Advanced ovarian cancer: long-term results of ...   \n",
       "5835   3431880  The analgesic effect of amitriptyline on chron...   \n",
       "5836   2444780  Comparison of nitroglycerin patches and nifedi...   \n",
       "\n",
       "                                           URL  \\\n",
       "0     https://pubmed.ncbi.nlm.nih.gov/37899090   \n",
       "1     https://pubmed.ncbi.nlm.nih.gov/37878348   \n",
       "2     https://pubmed.ncbi.nlm.nih.gov/37866803   \n",
       "3     https://pubmed.ncbi.nlm.nih.gov/37864589   \n",
       "4     https://pubmed.ncbi.nlm.nih.gov/37846549   \n",
       "...                                        ...   \n",
       "5832   https://pubmed.ncbi.nlm.nih.gov/1964663   \n",
       "5833   https://pubmed.ncbi.nlm.nih.gov/2563187   \n",
       "5834   https://pubmed.ncbi.nlm.nih.gov/3124679   \n",
       "5835   https://pubmed.ncbi.nlm.nih.gov/3431880   \n",
       "5836   https://pubmed.ncbi.nlm.nih.gov/2444780   \n",
       "\n",
       "                                               Abstract  \n",
       "0     Antiphospholipid syndrome (APS) is a systemic ...  \n",
       "1     Stimulants (methylphenidate and amphetamines) ...  \n",
       "2     Adiponectin replacement therapy holds the pote...  \n",
       "3     The potential benefits of adiponectin replacem...  \n",
       "4     Intravenous pentamidine is used for prophylaxi...  \n",
       "...                                                 ...  \n",
       "5832  Fifty patients presenting with acute deep-vein...  \n",
       "5833  Although it is a common belief that all antihy...  \n",
       "5834  To determine the efficacy of a 6-month course ...  \n",
       "5835  The efficacy of amitriptyline was evaluated in...  \n",
       "5836  Fifteen patients with stable angina participat...  \n",
       "\n",
       "[5581 rows x 4 columns]"
      ]
     },
     "execution_count": 83,
     "metadata": {},
     "output_type": "execute_result"
    }
   ],
   "source": [
    "data.dropna(inplace=True)\n",
    "data"
   ]
  },
  {
   "cell_type": "markdown",
   "metadata": {},
   "source": [
    "And let's see if the scraper didn't take any duplicates."
   ]
  },
  {
   "cell_type": "code",
   "execution_count": 84,
   "metadata": {},
   "outputs": [
    {
     "data": {
      "text/plain": [
       "count                                                  5581\n",
       "unique                                                 5579\n",
       "top       We identified 16 randomized placebo-controlled...\n",
       "freq                                                      2\n",
       "Name: Abstract, dtype: object"
      ]
     },
     "execution_count": 84,
     "metadata": {},
     "output_type": "execute_result"
    }
   ],
   "source": [
    "data['Abstract'].describe()"
   ]
  },
  {
   "cell_type": "markdown",
   "metadata": {},
   "source": [
    "two duplicates let's look at those\n"
   ]
  },
  {
   "cell_type": "code",
   "execution_count": 85,
   "metadata": {},
   "outputs": [
    {
     "data": {
      "text/html": [
       "<div>\n",
       "<style scoped>\n",
       "    .dataframe tbody tr th:only-of-type {\n",
       "        vertical-align: middle;\n",
       "    }\n",
       "\n",
       "    .dataframe tbody tr th {\n",
       "        vertical-align: top;\n",
       "    }\n",
       "\n",
       "    .dataframe thead th {\n",
       "        text-align: right;\n",
       "    }\n",
       "</style>\n",
       "<table border=\"1\" class=\"dataframe\">\n",
       "  <thead>\n",
       "    <tr style=\"text-align: right;\">\n",
       "      <th></th>\n",
       "      <th>PubMedID</th>\n",
       "      <th>Title</th>\n",
       "      <th>URL</th>\n",
       "    </tr>\n",
       "    <tr>\n",
       "      <th>Abstract</th>\n",
       "      <th></th>\n",
       "      <th></th>\n",
       "      <th></th>\n",
       "    </tr>\n",
       "  </thead>\n",
       "  <tbody>\n",
       "    <tr>\n",
       "      <th>The optimal strategy for revascularization in infrainguinal chronic limb-threatening ischemia (CLTI) remains debatable. Comparative trials are scarce, and daily decisions are often made using anecdotal or low-quality evidence. We searched multiple databases through May 7, 2017, for prospective studies with at least 1-year follow-up that evaluated patient-relevant outcomes of infrainguinal revascularization procedures in adults with CLTI. Independent pairs of reviewers selected articles and extracted data. Random-effects meta-analysis was used to pool outcomes across studies. We included 44 studies that enrolled 8602 patients. Periprocedural outcomes (mortality, amputation, major adverse cardiac events) were similar across treatment modalities. Overall, patients with infrapopliteal disease had higher patency rates of great saphenous vein graft at 1 and 2 years (primary: 87%, 78%; secondary: 94%, 87%, respectively) compared with all other interventions. Prosthetic bypass outcomes were notably inferior to vein bypass in terms of amputation and patency outcomes, especially for below knee targets at 2 years and beyond. Drug-eluting stents demonstrated improved patency over bare-metal stents in infrapopliteal arteries (primary patency: 73% vs 50% at 1 year), and was at least comparable to balloon angioplasty (66% primary patency). Survival, major amputation, and amputation-free survival at 2 years were broadly similar between endovascular interventions and vein bypass, with prosthetic bypass having higher rates of limb loss. Overall, the included studies were at moderate to high risk of bias and the quality of evidence was low. There are major limitations in the current state of evidence guiding treatment decisions in CLTI, particularly for severe anatomic patterns of disease treated via endovascular means. Periprocedural (30-day) mortality, amputation, and major adverse cardiac events are broadly similar across modalities. Patency rates are highest for saphenous vein bypass, whereas both patency and limb salvage are markedly inferior for prosthetic grafting to below the knee targets. Among endovascular interventions, percutaneous transluminal angioplasty and drug-eluting stents appear comparable for focal infrapopliteal disease, although no studies included long segment tibial lesions. Heterogeneity in patient risk, severity of limb threat, and anatomy treated renders direct comparison of outcomes from the current literature challenging. Future studies should incorporate both limb severity and anatomic staging to best guide clinical decision making in CLTI.</th>\n",
       "      <td>2</td>\n",
       "      <td>2</td>\n",
       "      <td>2</td>\n",
       "    </tr>\n",
       "    <tr>\n",
       "      <th>We identified 16 randomized placebo-controlled trials investigating cannabinoids as symptomatic treatment in multiple sclerosis (MS). There is evidence that nabiximols oromucosal spray may reduce subjective symptoms of spasticity and that dronabinol is effective against neuropathic pain in patients with MS. The existing treatment system in Denmark is in conformity with the existing data and there is not sufficient evidence to modify it.</th>\n",
       "      <td>2</td>\n",
       "      <td>2</td>\n",
       "      <td>2</td>\n",
       "    </tr>\n",
       "  </tbody>\n",
       "</table>\n",
       "</div>"
      ],
      "text/plain": [
       "                                                    PubMedID  Title  URL\n",
       "Abstract                                                                \n",
       "The optimal strategy for revascularization in i...         2      2    2\n",
       "We identified 16 randomized placebo-controlled ...         2      2    2"
      ]
     },
     "execution_count": 85,
     "metadata": {},
     "output_type": "execute_result"
    }
   ],
   "source": [
    "duplicates = data.groupby('Abstract').count()\n",
    "mask = duplicates['PubMedID'] >= 2\n",
    "duplicates[mask]"
   ]
  },
  {
   "cell_type": "code",
   "execution_count": 86,
   "metadata": {},
   "outputs": [
    {
     "data": {
      "text/plain": [
       "count                                                  5579\n",
       "unique                                                 5579\n",
       "top       Antiphospholipid syndrome (APS) is a systemic ...\n",
       "freq                                                      1\n",
       "Name: Abstract, dtype: object"
      ]
     },
     "execution_count": 86,
     "metadata": {},
     "output_type": "execute_result"
    }
   ],
   "source": [
    "data['Abstract'] = data['Abstract'].str.strip()\n",
    "data = data.drop_duplicates(subset='Abstract')\n",
    "data['Abstract'].describe()"
   ]
  },
  {
   "cell_type": "markdown",
   "metadata": {},
   "source": [
    "Now all duplicates and rows with NaN values have been removed"
   ]
  },
  {
   "cell_type": "markdown",
   "metadata": {},
   "source": [
    "Let's inspect the top 30 most common words in the abstracts."
   ]
  },
  {
   "cell_type": "code",
   "execution_count": 87,
   "metadata": {},
   "outputs": [
    {
     "data": {
      "image/png": "[encoded data removed]",
      "text/plain": [
       "<Figure size 864x648 with 1 Axes>"
      ]
     },
     "metadata": {
      "needs_background": "light"
     },
     "output_type": "display_data"
    }
   ],
   "source": [
    "word_freq = {}\n",
    "for sentence in data[\"Abstract\"]:\n",
    "    words = sentence.split()\n",
    "    for word in words:\n",
    "        if word not in word_freq:\n",
    "            word_freq[word] = 1\n",
    "        else: word_freq[word] += 1\n",
    "\n",
    "df_word_freq = pd.DataFrame.from_dict(word_freq, orient='index', columns=['Frequency'])\n",
    "df_word_freq = df_word_freq.sort_values(by='Frequency', ascending=False)\n",
    "\n",
    "# Plot the word frequencies using seaborn\n",
    "sns.barplot(x=df_word_freq.index[:30], y=df_word_freq['Frequency'][:30])\n",
    "plt.xticks(rotation=90)\n",
    "plt.xlabel('Words')\n",
    "plt.ylabel('Frequency')\n",
    "plt.title('Top 30 Word Frequencies')\n",
    "plt.show()"
   ]
  },
  {
   "cell_type": "markdown",
   "metadata": {},
   "source": [
    "As we see stopwords take up most of the spots in the 30 most recurring words. Let's remove these to paint a better picture of the 30 most common words in my corpus excluding stopwords."
   ]
  },
  {
   "cell_type": "code",
   "execution_count": 88,
   "metadata": {},
   "outputs": [],
   "source": [
    "def clean_text(text):\n",
    "    if type(text) != str or text=='':\n",
    "        return ''\n",
    "\n",
    "    text = text.lower()\n",
    "    text = re.sub(r\"<.*?>\", \" \", text)\n",
    "    text = re.sub(r\"(?<=\\b\\w) n't\", \" not\", text)\n",
    "    text = re.sub(\"\\'ll\", \" will\", text)\n",
    "    text = re.sub(\"what\\'s \", \" what is \", text, flags=re.IGNORECASE)\n",
    "    text = re.sub(\"&\", \"and\", text)\n",
    "    text = re.sub(\"\\'ve\", \" have \", text)\n",
    "    text = re.sub(r'i\\'m', 'i am', text)\n",
    "    #remove stopwords and apply lemmatization instead of stemming because it is more accurate in most cases.\n",
    "    stopwords_set = set(stopwords.words('english'))\n",
    "    lemmatizer = WordNetLemmatizer()\n",
    "    text = text.split()\n",
    "    text = [word for word in text if word.lower() not in stopwords_set]\n",
    "    text = [lemmatizer.lemmatize(word) for word in text]\n",
    "    \n",
    "    return \" \".join(text)"
   ]
  },
  {
   "cell_type": "code",
   "execution_count": 89,
   "metadata": {},
   "outputs": [
    {
     "name": "stdout",
     "output_type": "stream",
     "text": [
      "179\n"
     ]
    }
   ],
   "source": [
    "stopwords_set = set(stopwords.words('english'))\n",
    "print(len(stopwords_set))"
   ]
  },
  {
   "cell_type": "code",
   "execution_count": 90,
   "metadata": {},
   "outputs": [
    {
     "data": {
      "image/png": "[encoded data removed]",
      "text/plain": [
       "<Figure size 864x648 with 1 Axes>"
      ]
     },
     "metadata": {
      "needs_background": "light"
     },
     "output_type": "display_data"
    }
   ],
   "source": [
    "cleaned_data = data['Abstract'].apply(clean_text)\n",
    "word_freq = {}\n",
    "for sentence in cleaned_data:\n",
    "    words = sentence.split()\n",
    "    for word in words:\n",
    "        if word not in word_freq:\n",
    "            word_freq[word] = 1\n",
    "        else: word_freq[word] += 1\n",
    "\n",
    "df_word_freq = pd.DataFrame.from_dict(word_freq, orient='index', columns=['Frequency'])\n",
    "df_word_freq = df_word_freq.sort_values(by='Frequency', ascending=False)\n",
    "\n",
    "# Plot the word frequencies using seaborn\n",
    "sns.barplot(x=df_word_freq.index[:30], y=df_word_freq['Frequency'][:30])\n",
    "plt.xticks(rotation=90)\n",
    "plt.xlabel('Words')\n",
    "plt.ylabel('Frequency')\n",
    "plt.title('Top 30 Word Frequencies')\n",
    "plt.show()"
   ]
  },
  {
   "cell_type": "markdown",
   "metadata": {},
   "source": [
    "<a name='1'></a>\n",
    "## So after the cleaning function is used several things are altered or removed.\n",
    "1. The text is converted to lowercase, HTML tags are removed.\n",
    "3. Contractions like \"n't\" or \"'ll\" are expanded to their full form.<br>\n",
    "5. Possessive forms like \"'s\" are removed.\n",
    "6. The symbol \"&\" is replaced with the word \"and\".\n",
    "8. Repeated periods are reduced to a single period.\n",
    "10. Stop words are removed, and the remaining words are lemmatized.<br>\n",
    "In summary the preprocessing code performs various text cleaning operations, including the removal of HTML tags, contraction expansion, and lemmatization. \n",
    "Now you can observe that the highest frequency word is no longer a stopword and it's frequency is only 20% of the original most frequent word \"of\". Now one could argue that removing stopwords is a good thing since most of them don't carry much context, which is true most of the times  and combined with lemmatization it would make the corpus and each document smaller leading to the possibility of more context to the LLM in the future. But consider the following example and chain of thought where I will reason that some stop words do carry context and in the context of this retrieval augmented generation and removing certain stopwords could invert the conclusion of a research paper."
   ]
  },
  {
   "cell_type": "code",
   "execution_count": 91,
   "metadata": {},
   "outputs": [
    {
     "name": "stdout",
     "output_type": "stream",
     "text": [
      "Intravenous pentamidine is used for prophylaxis against Pneumocystis jirovecii pneumonia, an infection seen in hematopoietic stem cell transplant recipients. Pentamidine is partially metabolized by CYP2C19, which is vulnerable to pharmacogenetic variation. This retrospective study evaluated allogeneic hematopoietic stem cell transplant patients who received intravenous pentamidine as P. jirovecii pneumonia prophylaxis. The primary objective was the association between CYP2C19 phenotype and discontinuation of pentamidine due to drug-related side effects based on univariate logistic regression (N = 81). Ten patients (12.3%) discontinued pentamidine because of side effects. There was no difference in discontinuation between phenotype groups (p = 0.18) or discontinuation due to side effects (p = 0.76). Overall, no association was seen between phenotypes and pentamidine-related side effects (p = 0.475). Drug discontinuation rates and P. jirovecii pneumonia infection rates were low.\n",
      "intravenous pentamidine used prophylaxis pneumocystis jirovecii pneumonia, infection seen hematopoietic stem cell transplant recipients. pentamidine partially metabolized cyp2c19, vulnerable pharmacogenetic variation. retrospective study evaluated allogeneic hematopoietic stem cell transplant patient received intravenous pentamidine p. jirovecii pneumonia prophylaxis. primary objective association cyp2c19 phenotype discontinuation pentamidine due drug-related side effect based univariate logistic regression (n = 81). ten patient (12.3%) discontinued pentamidine side effects. difference discontinuation phenotype group (p = 0.18) discontinuation due side effect (p = 0.76). overall, association seen phenotype pentamidine-related side effect (p = 0.475). drug discontinuation rate p. jirovecii pneumonia infection rate low.\n"
     ]
    }
   ],
   "source": [
    "print(data['Abstract'].iloc[4])\n",
    "print(cleaned_data.iloc[4])"
   ]
  },
  {
   "cell_type": "markdown",
   "metadata": {},
   "source": [
    "Now the first abstract is not cleaned and the second abstract is cleaned with stopwords removed and the words lemmatized. First the conclusion of a paper often contain the key findings of the research with a summary a context change here resulting from stopword removal could prove catastrophic in drug justification based on EBM where we look a results of studies to find a solution or a justification to our own problem. Now let's look at the conclusion of the original abstract where it is stated that Overall, no association was seen between phenotypes and pentamidine-related side effects (p = 0.475) and the cleaned_abstract which concludes overall, association seen phenotype pentamidine-related side effect (p = 0.475). This cleaned abstracts conclusion is the complete opposite which says there is association in side effects and giving this text as context for the LLM could result in a wrong justification of a fact based on incorrect information due to the removal of stopwords. Perhaps a more domain specific list of stopwords could be used where these kinds of \"important stopwords\" which don't lose context when removed are present. BUT this is only for the abstract giving context to the LLM what if I still clean the text but specifically for the embedding, even though the conclusion might be off the embedding would still match a high similarity to the fact or question needing justification and then I would retrieve the k most similar uncleaned abstracts or chuncks for the full context. For example consider the following fact needing justification or correction: pentamidine is discontinued due to drug-related side effects from stemming from the CYP2C19 phenotype would still match high similarity to the cleaned and embedded abstract with the wrong conclusion but the conclusion is irrelevant at this stage we just want to match k most similar documents for context and removing stopwords for efficient embedding and maintaining context while removing noise in the embedding could prove beneficial. Then when the k most similar abstract embeddings are matched to the question their original abstracts or chunks thereof with the correct information would would be used as context. so in summary since the primary goal in the initial step is to maximize the similarity matching for retrieval purposes, then cleaning the text by removing stopwords and irrelevant details could prove beneficial."
   ]
  },
  {
   "cell_type": "markdown",
   "metadata": {},
   "source": [
    "Proposed structure:\n",
    "\n",
    "Chunking: First, perform chunking on the original uncleaned abstracts. This will divide each abstract into smaller sections as not to fill up the entire context window while preserving the original context. Each chunk will be stored  with an id, which can be useful for tracking.\n",
    "\n",
    "Cleaning: After chunking the data, I would start with cleaning, for example removing stopwords. Cleaning is only for the text embeddings to remove the noise of stopwords from the embedding context to be better matched to a fact.\n",
    "\n",
    "Embedding: Once you have cleaned the data, generate embeddings for each cleaned chunk. These will be used to calculate similarities and retrieve the most relevant original chunks when passed to the LLM for context.\n",
    "\n",
    "tuple Structure: To maintain the link between cleaned chunks and their corresponding uncleaned versions, create a structured data format, such as a triplet. This format will take the shape of the chunk ID and the embedding of the cleaned chunk. This structure might enable me to match the cleaned chunks with questions and retrieve the uncleaned context."
   ]
  },
  {
   "cell_type": "code",
   "execution_count": 92,
   "metadata": {},
   "outputs": [
    {
     "name": "stdout",
     "output_type": "stream",
     "text": [
      "Unique words count with stopwords= 100266\n",
      "Unique words count without stopwords and further cleaning= 90317\n"
     ]
    }
   ],
   "source": [
    "unique_words_set = set(\" \".join(data['Abstract']).split())\n",
    "unique_words_count = len(unique_words_set)\n",
    "\n",
    "unique_words_set_cleaned = set(\" \".join(cleaned_data).split())\n",
    "unique_words_count_cleaned = len(unique_words_set_cleaned)\n",
    "print(\"Unique words count with stopwords= \" + str(unique_words_count))\n",
    "print(\"Unique words count without stopwords and further cleaning= \"+ str(unique_words_count_cleaned))"
   ]
  },
  {
   "cell_type": "markdown",
   "metadata": {},
   "source": [
    "So we can see cleaning indeed shrinks the corpus and might make word embeddings more concise on their similarity with a fact without the stopwords. "
   ]
  },
  {
   "cell_type": "markdown",
   "metadata": {},
   "source": [
    "Let's first what the average sentence and abstract lengths are in our raw abstracts to see how badly we would need chunking for a regular LLM model with 4096 tokens."
   ]
  },
  {
   "cell_type": "code",
   "execution_count": 104,
   "metadata": {},
   "outputs": [
    {
     "name": "stdout",
     "output_type": "stream",
     "text": [
      "22.76748215502177\n",
      "275.5633626097867\n"
     ]
    }
   ],
   "source": [
    "row_count = data.shape[0]\n",
    "total_abstract_length = 0\n",
    "total_sentence_length = 0\n",
    "sentence_count = 0\n",
    "for abstract in data['Abstract']:\n",
    "    sentences = sent_tokenize(abstract)\n",
    "    total_abstract_length += len(abstract.split())\n",
    "    sentence_count += len(sentences)\n",
    "    total_sentence_length += sum(len(sentence.split()) for sentence in sentences)\n",
    "\n",
    "        \n",
    "avg_abstract_length = total_abstract_length / row_count\n",
    "avg_sentence_length = total_sentence_length / sentence_count\n",
    "\n",
    "\n",
    "print(avg_sentence_length)\n",
    "print(avg_abstract_length)\n"
   ]
  }
 ],
 "metadata": {
  "kernelspec": {
   "display_name": "Python 3",
   "language": "python",
   "name": "python3"
  },
  "language_info": {
   "codemirror_mode": {
    "name": "ipython",
    "version": 3
   },
   "file_extension": ".py",
   "mimetype": "text/x-python",
   "name": "python",
   "nbconvert_exporter": "python",
   "pygments_lexer": "ipython3",
   "version": "3.9.13"
  },
  "orig_nbformat": 4
 },
 "nbformat": 4,
 "nbformat_minor": 2
}
